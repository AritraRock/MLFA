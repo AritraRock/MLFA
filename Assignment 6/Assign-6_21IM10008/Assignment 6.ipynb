{
  "nbformat": 4,
  "nbformat_minor": 0,
  "metadata": {
    "colab": {
      "provenance": []
    },
    "kernelspec": {
      "name": "python3",
      "display_name": "Python 3"
    },
    "language_info": {
      "name": "python"
    }
  },
  "cells": [
    {
      "cell_type": "code",
      "execution_count": 7,
      "metadata": {
        "id": "wfDo2IEcfnne"
      },
      "outputs": [],
      "source": [
        "import torch\n",
        "import torchvision\n",
        "import torchvision.transforms as transforms\n",
        "import torch.nn as nn\n",
        "import torch.optim as optim\n",
        "from torch.utils.data import DataLoader\n",
        "from torch.utils.data.sampler import SubsetRandomSampler\n",
        "from torchvision.datasets import MNIST\n",
        "import numpy as np\n",
        "import matplotlib.pyplot as plt\n",
        "from sklearn.metrics import confusion_matrix, precision_score, recall_score"
      ]
    },
    {
      "cell_type": "code",
      "source": [
        "# Define transformations\n",
        "transform = transforms.Compose([\n",
        "    transforms.RandomRotation(10),\n",
        "    transforms.RandomHorizontalFlip(),\n",
        "    transforms.RandomCrop(28, padding=4),\n",
        "    transforms.ToTensor(),\n",
        "    transforms.Normalize((0.1307,), (0.3081,))\n",
        "])\n",
        "\n",
        "# Load MNIST dataset with augmentation for training set\n",
        "train_dataset = MNIST(root='./data', train=True, transform=transform, download=True)\n",
        "test_dataset = MNIST(root='./data', train=False, transform=transforms.ToTensor(), download=True)\n"
      ],
      "metadata": {
        "id": "69XXP5ecf0kg"
      },
      "execution_count": 8,
      "outputs": []
    },
    {
      "cell_type": "code",
      "source": [
        "# Define hyperparameters to tune\n",
        "hidden_layer_sizes = [128, 256, 512]\n",
        "learning_rates = [0.001, 0.01, 0.1]\n",
        "\n",
        "# Define validation set split\n",
        "validation_split = 0.2\n",
        "dataset_size = len(train_dataset)\n",
        "indices = list(range(dataset_size))\n",
        "split = int(np.floor(validation_split * dataset_size))\n",
        "np.random.shuffle(indices)\n",
        "train_indices, val_indices = indices[split:], indices[:split]\n",
        "\n",
        "# Define samplers for train and validation sets\n",
        "train_sampler = SubsetRandomSampler(train_indices)\n",
        "val_sampler = SubsetRandomSampler(val_indices)\n",
        "\n",
        "# Define data loaders\n",
        "train_loader = DataLoader(train_dataset, batch_size=32, sampler=train_sampler)\n",
        "val_loader = DataLoader(train_dataset, batch_size=32, sampler=val_sampler)\n",
        "test_loader = DataLoader(test_dataset, batch_size=32)\n"
      ],
      "metadata": {
        "id": "mjVlDWfhf2K7"
      },
      "execution_count": 9,
      "outputs": []
    },
    {
      "cell_type": "code",
      "source": [
        "class NeuralNet(nn.Module):\n",
        "    def __init__(self, input_size, hidden_size, num_classes):\n",
        "        super(NeuralNet, self).__init__()\n",
        "        self.fc1 = nn.Linear(input_size, hidden_size)\n",
        "        self.relu = nn.ReLU()\n",
        "        self.fc2 = nn.Linear(hidden_size, num_classes)\n",
        "\n",
        "    def forward(self, x):\n",
        "        x = x.view(x.size(0), -1)\n",
        "        x = self.fc1(x)\n",
        "        x = self.relu(x)\n",
        "        x = self.fc2(x)\n",
        "        return x\n",
        "\n",
        "# Function for model training\n",
        "def train(model, criterion, optimizer, train_loader, val_loader, num_epochs=10):\n",
        "    train_losses = []\n",
        "    val_losses = []\n",
        "    for epoch in range(num_epochs):\n",
        "        model.train()\n",
        "        running_loss = 0.0\n",
        "        for images, labels in train_loader:\n",
        "            optimizer.zero_grad()\n",
        "            outputs = model(images)\n",
        "            loss = criterion(outputs, labels)\n",
        "            loss.backward()\n",
        "            optimizer.step()\n",
        "            running_loss += loss.item()\n",
        "        train_loss = running_loss / len(train_loader)\n",
        "        train_losses.append(train_loss)\n",
        "\n",
        "        model.eval()\n",
        "        val_loss = 0.0\n",
        "        with torch.no_grad():\n",
        "            for images, labels in val_loader:\n",
        "                outputs = model(images)\n",
        "                loss = criterion(outputs, labels)\n",
        "                val_loss += loss.item()\n",
        "        val_loss /= len(val_loader)\n",
        "        val_losses.append(val_loss)\n",
        "\n",
        "        print(f'Epoch [{epoch + 1}/{num_epochs}], '\n",
        "              f'Train Loss: {train_loss:.4f}, '\n",
        "              f'Val Loss: {val_loss:.4f}')\n",
        "\n",
        "    return train_losses, val_losses\n",
        "\n",
        "# Initialize model, criterion, and optimizer\n",
        "ffnn_model = NeuralNet(28*28, 256, 10)\n",
        "criterion = nn.CrossEntropyLoss()\n",
        "optimizer_ffnn = optim.Adam(ffnn_model.parameters(), lr=0.001)\n",
        "\n",
        "# Train the model\n",
        "train_losses_ffnn, val_losses_ffnn = train(ffnn_model, criterion, optimizer_ffnn, train_loader, val_loader)\n",
        "\n",
        "# Evaluate the model on test set\n",
        "def evaluate_model(model, test_loader, criterion):\n",
        "    model.eval()\n",
        "    test_loss = 0.0\n",
        "    correct = 0\n",
        "    total = 0\n",
        "    with torch.no_grad():\n",
        "        for images, labels in test_loader:\n",
        "            outputs = model(images)\n",
        "            loss = criterion(outputs, labels)\n",
        "            test_loss += loss.item()\n",
        "            _, predicted = torch.max(outputs, 1)\n",
        "            total += labels.size(0)\n",
        "            correct += (predicted == labels).sum().item()\n",
        "    accuracy = 100 * correct / total\n",
        "    avg_loss = test_loss / len(test_loader)\n",
        "    # print(f'Test Accuracy: {accuracy:.2f}%, Test Loss: {avg_loss:.4f}')\n",
        "    return accuracy, avg_loss\n",
        "\n",
        "val_accuracy_ffnn, val_loss_ffnn = evaluate_model(ffnn_model, val_loader, criterion)\n",
        "print(f'Validation Accuracy: {val_accuracy_ffnn:.2f}%, Validation Loss: {val_loss_ffnn:.4f}')\n",
        "test_accuracy_ffnn, test_loss_ffnn = evaluate_model(ffnn_model, test_loader, criterion)\n",
        "print(f'Test Accuracy: {test_accuracy_ffnn:.2f}%, Test Loss: {test_loss_ffnn:.4f}')\n",
        "# Visualize training and validation loss\n",
        "plt.plot(train_losses_ffnn, label='Training Loss')\n",
        "plt.plot(val_losses_ffnn, label='Validation Loss')\n",
        "plt.xlabel('Epochs')\n",
        "plt.ylabel('Loss')\n",
        "plt.title('Training and Validation Loss')\n",
        "plt.legend()\n",
        "plt.show()\n"
      ],
      "metadata": {
        "colab": {
          "base_uri": "https://localhost:8080/",
          "height": 680
        },
        "id": "U4rTOEvzf3yY",
        "outputId": "e4a1fdba-6967-4ae3-80e9-3c5999ac0000"
      },
      "execution_count": 10,
      "outputs": [
        {
          "output_type": "stream",
          "name": "stdout",
          "text": [
            "Epoch [1/10], Train Loss: 0.7701, Val Loss: 0.5069\n",
            "Epoch [2/10], Train Loss: 0.4751, Val Loss: 0.4202\n",
            "Epoch [3/10], Train Loss: 0.4160, Val Loss: 0.4229\n",
            "Epoch [4/10], Train Loss: 0.3826, Val Loss: 0.3704\n",
            "Epoch [5/10], Train Loss: 0.3609, Val Loss: 0.3469\n",
            "Epoch [6/10], Train Loss: 0.3528, Val Loss: 0.3238\n",
            "Epoch [7/10], Train Loss: 0.3316, Val Loss: 0.3268\n",
            "Epoch [8/10], Train Loss: 0.3300, Val Loss: 0.3404\n",
            "Epoch [9/10], Train Loss: 0.3253, Val Loss: 0.3057\n",
            "Epoch [10/10], Train Loss: 0.3192, Val Loss: 0.3103\n",
            "Validation Accuracy: 90.59%, Validation Loss: 0.3135\n",
            "Test Accuracy: 81.24%, Test Loss: 0.8033\n"
          ]
        },
        {
          "output_type": "display_data",
          "data": {
            "text/plain": [
              "<Figure size 640x480 with 1 Axes>"
            ],
            "image/png": "[encoded data removed]"
          },
          "metadata": {}
        }
      ]
    },
    {
      "cell_type": "code",
      "source": [
        "# Number of parameters and FLOPs\n",
        "# !pip install torchprofile\n",
        "# from torchprofile import profile_macs\n",
        "from sklearn.metrics import confusion_matrix, precision_score, recall_score\n",
        "from flopth import flopth\n",
        "# Profile the model\n",
        "flops_ffnn, num_parameters_ffnn = flopth(ffnn_model, in_size=(28*28,),show_detail=True)\n",
        "print(flops_ffnn,num_parameters_ffnn)\n",
        "\n",
        "# Generate confusion matrix, precision, and recall\n",
        "def generate_confusion_matrix(model, test_loader):\n",
        "    model.eval()\n",
        "    all_predictions = []\n",
        "    all_targets = []\n",
        "    with torch.no_grad():\n",
        "        for images, labels in test_loader:\n",
        "            outputs = model(images)\n",
        "            _, predicted = torch.max(outputs, 1)\n",
        "            all_predictions.extend(predicted.tolist())\n",
        "            all_targets.extend(labels.tolist())\n",
        "    conf_mat_result = confusion_matrix(all_targets, all_predictions)\n",
        "    precision = precision_score(all_targets, all_predictions, average='macro')\n",
        "    recall = recall_score(all_targets, all_predictions, average='macro')\n",
        "    return conf_mat_result, precision, recall\n",
        "\n",
        "# Call the function to generate confusion matrix, precision, and recall\n",
        "conf_mat_result, precision, recall = generate_confusion_matrix(ffnn_model, test_loader)\n",
        "print(f'Confusion Matrix:\\n{conf_mat_result}')\n",
        "print(f'Precision: {precision:.4f}')\n",
        "print(f'Recall: {recall:.4f}')\n"
      ],
      "metadata": {
        "colab": {
          "base_uri": "https://localhost:8080/",
          "height": 383
        },
        "id": "pZET3R6ef5lw",
        "outputId": "f33c4397-63d8-4039-de07-6090c13bb44f"
      },
      "execution_count": 15,
      "outputs": [
        {
          "output_type": "error",
          "ename": "ModuleNotFoundError",
          "evalue": "No module named 'flopth'",
          "traceback": [
            "\u001b[0;31m---------------------------------------------------------------------------\u001b[0m",
            "\u001b[0;31mModuleNotFoundError\u001b[0m                       Traceback (most recent call last)",
            "\u001b[0;32m<ipython-input-15-afe41663007a>\u001b[0m in \u001b[0;36m<cell line: 5>\u001b[0;34m()\u001b[0m\n\u001b[1;32m      3\u001b[0m \u001b[0;31m# from torchprofile import profile_macs\u001b[0m\u001b[0;34m\u001b[0m\u001b[0;34m\u001b[0m\u001b[0m\n\u001b[1;32m      4\u001b[0m \u001b[0;32mfrom\u001b[0m \u001b[0msklearn\u001b[0m\u001b[0;34m.\u001b[0m\u001b[0mmetrics\u001b[0m \u001b[0;32mimport\u001b[0m \u001b[0mconfusion_matrix\u001b[0m\u001b[0;34m,\u001b[0m \u001b[0mprecision_score\u001b[0m\u001b[0;34m,\u001b[0m \u001b[0mrecall_score\u001b[0m\u001b[0;34m\u001b[0m\u001b[0;34m\u001b[0m\u001b[0m\n\u001b[0;32m----> 5\u001b[0;31m \u001b[0;32mfrom\u001b[0m \u001b[0mflopth\u001b[0m \u001b[0;32mimport\u001b[0m \u001b[0mflopth\u001b[0m\u001b[0;34m\u001b[0m\u001b[0;34m\u001b[0m\u001b[0m\n\u001b[0m\u001b[1;32m      6\u001b[0m \u001b[0;31m# Profile the model\u001b[0m\u001b[0;34m\u001b[0m\u001b[0;34m\u001b[0m\u001b[0m\n\u001b[1;32m      7\u001b[0m \u001b[0mflops_ffnn\u001b[0m\u001b[0;34m,\u001b[0m \u001b[0mnum_parameters_ffnn\u001b[0m \u001b[0;34m=\u001b[0m \u001b[0mflopth\u001b[0m\u001b[0;34m(\u001b[0m\u001b[0mffnn_model\u001b[0m\u001b[0;34m,\u001b[0m \u001b[0min_size\u001b[0m\u001b[0;34m=\u001b[0m\u001b[0;34m(\u001b[0m\u001b[0;36m28\u001b[0m\u001b[0;34m*\u001b[0m\u001b[0;36m28\u001b[0m\u001b[0;34m,\u001b[0m\u001b[0;34m)\u001b[0m\u001b[0;34m,\u001b[0m\u001b[0mshow_detail\u001b[0m\u001b[0;34m=\u001b[0m\u001b[0;32mTrue\u001b[0m\u001b[0;34m)\u001b[0m\u001b[0;34m\u001b[0m\u001b[0;34m\u001b[0m\u001b[0m\n",
            "\u001b[0;31mModuleNotFoundError\u001b[0m: No module named 'flopth'",
            "",
            "\u001b[0;31m---------------------------------------------------------------------------\u001b[0;32m\nNOTE: If your import is failing due to a missing package, you can\nmanually install dependencies using either !pip or !apt.\n\nTo view examples of installing some common dependencies, click the\n\"Open Examples\" button below.\n\u001b[0;31m---------------------------------------------------------------------------\u001b[0m\n"
          ],
          "errorDetails": {
            "actions": [
              {
                "action": "open_url",
                "actionText": "Open Examples",
                "url": "/notebooks/snippets/importing_libraries.ipynb"
              }
            ]
          }
        }
      ]
    },
    {
      "cell_type": "markdown",
      "source": [
        "#CNN"
      ],
      "metadata": {
        "id": "lHhxok_ff7O_"
      }
    },
    {
      "cell_type": "code",
      "source": [
        "import torch.nn.functional as F\n",
        "\n",
        "class CNN(nn.Module):\n",
        "    def __init__(self):\n",
        "        super(CNN, self).__init__()\n",
        "        self.conv1 = nn.Conv2d(1, 16, kernel_size=3, stride=1, padding=1)\n",
        "        self.pool = nn.MaxPool2d(kernel_size=2, stride=2, padding=0)\n",
        "        self.conv2 = nn.Conv2d(16, 32, kernel_size=3, stride=1, padding=1)\n",
        "        self.fc = nn.Linear(32 * 7 * 7, 10)  # MNIST images are 28x28 after pooling twice\n",
        "\n",
        "    def forward(self, x):\n",
        "        x = self.pool(F.relu(self.conv1(x)))\n",
        "        x = self.pool(F.relu(self.conv2(x)))\n",
        "        x = x.view(-1, 32 * 7 * 7)\n",
        "        x = self.fc(x)\n",
        "        return x\n",
        "\n",
        "# Initialize the model\n",
        "cnn_model = CNN()\n"
      ],
      "metadata": {
        "id": "pXk-mGPFf8aF"
      },
      "execution_count": null,
      "outputs": []
    },
    {
      "cell_type": "code",
      "source": [
        "# Define hyperparameters grid\n",
        "param_grid = {'conv1_filters': [16, 32, 64],\n",
        "              'conv2_filters': [32, 64, 128],\n",
        "              'learning_rate': [0.001, 0.01, 0.1]}\n",
        "\n",
        "# Perform hyperparameter tuning using grid search or other techniques\n",
        "# Track the model's performance on the validation set during training\n",
        "# Select the hyperparameters that yield the best results\n",
        "# Example:\n",
        "best_params = {'conv1_filters': 32, 'conv2_filters': 64, 'learning_rate': 0.001}\n"
      ],
      "metadata": {
        "id": "L13ExH6Jf917"
      },
      "execution_count": null,
      "outputs": []
    },
    {
      "cell_type": "code",
      "source": [
        "# Define optimizer and loss function\n",
        "optimizer = optim.Adam(cnn_model.parameters(), lr=best_params['learning_rate'])\n",
        "criterion = nn.CrossEntropyLoss()\n",
        "\n",
        "# Train the model\n",
        "train_losses_cnn, val_losses_cnn = train(cnn_model, criterion, optimizer, train_loader, val_loader)\n",
        "\n",
        "# Evaluate the model on validation and test sets\n",
        "val_accuracy_cnn, val_loss_cnn = evaluate_model(cnn_model, val_loader, criterion)\n",
        "print(f'Validation Accuracy: {val_accuracy_cnn:.2f}%, Validation Loss: {val_loss_cnn:.4f}')\n",
        "test_accuracy_cnn, test_loss_cnn = evaluate_model(cnn_model, test_loader, criterion)\n",
        "print(f'Test Accuracy: {test_accuracy_cnn:.2f}%, Test Loss: {test_loss_cnn:.4f}')\n",
        "\n",
        "# Visualize training and validation loss\n",
        "plt.plot(train_losses_cnn, label='Training Loss')\n",
        "plt.plot(val_losses_cnn, label='Validation Loss')\n",
        "plt.xlabel('Epochs')\n",
        "plt.ylabel('Loss')\n",
        "plt.title('Training and Validation Loss')\n",
        "plt.legend()\n",
        "plt.show()\n"
      ],
      "metadata": {
        "id": "MrpD4pBNf_TW"
      },
      "execution_count": null,
      "outputs": []
    },
    {
      "cell_type": "code",
      "source": [
        "# Compare the accuracy, precision, and recall scores of CNN and feedforward neural network models\n",
        "print(\"\\nComparison of Performance Metrics:\")\n",
        "print(\"CNN Model:\")\n",
        "print(f\"Validation Accuracy: {val_accuracy_cnn:.2f}%, Validation Loss: {val_loss_cnn:.4f}\")\n",
        "print(f\"Test Accuracy: {test_accuracy_cnn:.2f}%, Test Loss: {test_loss_cnn:.4f}\")\n",
        "print(\"\\nFeedforward Neural Network Model:\")\n",
        "print(f\"Validation Accuracy: {val_accuracy_ffnn:.2f}%, Validation Loss: {val_loss_ffnn:.4f}\")\n",
        "print(f\"Test Accuracy: {test_accuracy_ffnn:.2f}%, Test Loss: {test_loss_ffnn:.4f}\")\n",
        "\n",
        "# Calculate FLOPs and Number of parameters for both models\n",
        "from flopth import flopth\n",
        "flops_cnn, num_parameters_cnn = flopth(cnn_model,show_detail=True)\n",
        "print(\"\\nComparison of Number of Trainable Parameters:\")\n",
        "print(f\"CNN Model: {num_parameters_cnn} parameters\")\n",
        "print(f\"Feedforward Neural Network Model: {num_parameters_ffnn} parameters\")\n",
        "print(\"\\nComparison of FLOPS:\")\n",
        "print(flops_ffnn)\n",
        "print(flops_cnn)\n"
      ],
      "metadata": {
        "id": "U3pUpLCWgAxe"
      },
      "execution_count": null,
      "outputs": []
    }
  ]
}