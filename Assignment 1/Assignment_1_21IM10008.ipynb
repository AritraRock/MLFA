{
  "cells": [
    {
      "cell_type": "markdown",
      "metadata": {
        "id": "XpwSv6XI8SFk"
      },
      "source": [
        "***Name- Aritra Ray***"
      ]
    },
    {
      "cell_type": "markdown",
      "metadata": {
        "id": "yHU7JM4T8Qvl"
      },
      "source": [
        "***Roll No.- 21IM10008***"
      ]
    },
    {
      "cell_type": "code",
      "execution_count": 2,
      "metadata": {
        "id": "1CDMRvd80TqG"
      },
      "outputs": [],
      "source": [
        "#importing the packages\n",
        "import numpy as np\n",
        "import pandas as pd\n",
        "import matplotlib as mpl\n",
        "import matplotlib.pyplot as plt\n",
        "import seaborn as sns"
      ]
    },
    {
      "cell_type": "markdown",
      "metadata": {
        "id": "iGswChEV2K-A"
      },
      "source": [
        "#Experiment 1"
      ]
    },
    {
      "cell_type": "code",
      "execution_count": 3,
      "metadata": {
        "id": "Heq3prYO1CAF"
      },
      "outputs": [],
      "source": [
        "#Loading the data set and creating the dataframe\n",
        "data_csv=pd.read_csv('sales_data.csv')\n",
        "df=pd.DataFrame(data_csv)"
      ]
    },
    {
      "cell_type": "code",
      "execution_count": 4,
      "metadata": {
        "colab": {
          "base_uri": "https://localhost:8080/",
          "height": 300
        },
        "id": "jDZ31w8C1zlp",
        "outputId": "f5aa6274-1bcf-4714-a753-09b219ee1f70"
      },
      "outputs": [
        {
          "data": {
            "text/html": [
              "<div>\n",
              "<style scoped>\n",
              "    .dataframe tbody tr th:only-of-type {\n",
              "        vertical-align: middle;\n",
              "    }\n",
              "\n",
              "    .dataframe tbody tr th {\n",
              "        vertical-align: top;\n",
              "    }\n",
              "\n",
              "    .dataframe thead th {\n",
              "        text-align: right;\n",
              "    }\n",
              "</style>\n",
              "<table border=\"1\" class=\"dataframe\">\n",
              "  <thead>\n",
              "    <tr style=\"text-align: right;\">\n",
              "      <th></th>\n",
              "      <th>OrderID</th>\n",
              "      <th>Product</th>\n",
              "      <th>Quantity</th>\n",
              "      <th>Price</th>\n",
              "      <th>Date</th>\n",
              "    </tr>\n",
              "  </thead>\n",
              "  <tbody>\n",
              "    <tr>\n",
              "      <th>0</th>\n",
              "      <td>1</td>\n",
              "      <td>Product_A</td>\n",
              "      <td>10</td>\n",
              "      <td>20.0</td>\n",
              "      <td>01-01-2023</td>\n",
              "    </tr>\n",
              "    <tr>\n",
              "      <th>1</th>\n",
              "      <td>2</td>\n",
              "      <td>Product_B</td>\n",
              "      <td>5</td>\n",
              "      <td>15.0</td>\n",
              "      <td>02-01-2023</td>\n",
              "    </tr>\n",
              "    <tr>\n",
              "      <th>2</th>\n",
              "      <td>3</td>\n",
              "      <td>Product_A</td>\n",
              "      <td>8</td>\n",
              "      <td>20.0</td>\n",
              "      <td>03-01-2023</td>\n",
              "    </tr>\n",
              "    <tr>\n",
              "      <th>3</th>\n",
              "      <td>4</td>\n",
              "      <td>Product_C</td>\n",
              "      <td>12</td>\n",
              "      <td>25.0</td>\n",
              "      <td>05-01-2023</td>\n",
              "    </tr>\n",
              "    <tr>\n",
              "      <th>4</th>\n",
              "      <td>5</td>\n",
              "      <td>Product_B</td>\n",
              "      <td>6</td>\n",
              "      <td>15.0</td>\n",
              "      <td>01-02-2023</td>\n",
              "    </tr>\n",
              "    <tr>\n",
              "      <th>5</th>\n",
              "      <td>6</td>\n",
              "      <td>Product_A</td>\n",
              "      <td>15</td>\n",
              "      <td>20.0</td>\n",
              "      <td>02-02-2023</td>\n",
              "    </tr>\n",
              "    <tr>\n",
              "      <th>6</th>\n",
              "      <td>7</td>\n",
              "      <td>Product_C</td>\n",
              "      <td>10</td>\n",
              "      <td>25.0</td>\n",
              "      <td>03-02-2023</td>\n",
              "    </tr>\n",
              "    <tr>\n",
              "      <th>7</th>\n",
              "      <td>8</td>\n",
              "      <td>Product_A</td>\n",
              "      <td>7</td>\n",
              "      <td>NaN</td>\n",
              "      <td>01-03-2023</td>\n",
              "    </tr>\n",
              "  </tbody>\n",
              "</table>\n",
              "</div>"
            ],
            "text/plain": [
              "   OrderID    Product  Quantity  Price        Date\n",
              "0        1  Product_A        10   20.0  01-01-2023\n",
              "1        2  Product_B         5   15.0  02-01-2023\n",
              "2        3  Product_A         8   20.0  03-01-2023\n",
              "3        4  Product_C        12   25.0  05-01-2023\n",
              "4        5  Product_B         6   15.0  01-02-2023\n",
              "5        6  Product_A        15   20.0  02-02-2023\n",
              "6        7  Product_C        10   25.0  03-02-2023\n",
              "7        8  Product_A         7    NaN  01-03-2023"
            ]
          },
          "execution_count": 4,
          "metadata": {},
          "output_type": "execute_result"
        }
      ],
      "source": [
        "df.head(8)"
      ]
    },
    {
      "cell_type": "markdown",
      "metadata": {
        "id": "_2DQa-pX2fvQ"
      },
      "source": [
        "#Experiment 2"
      ]
    },
    {
      "cell_type": "code",
      "execution_count": 5,
      "metadata": {
        "colab": {
          "base_uri": "https://localhost:8080/",
          "height": 846
        },
        "id": "p6lwGGyP2iVA",
        "outputId": "246c24cb-9ded-4bbf-9229-7ba5b512cfa8"
      },
      "outputs": [
        {
          "name": "stdout",
          "output_type": "stream",
          "text": [
            "    OrderID  Product  Quantity  Price   Date\n",
            "0     False    False     False  False  False\n",
            "1     False    False     False  False  False\n",
            "2     False    False     False  False  False\n",
            "3     False    False     False  False  False\n",
            "4     False    False     False  False  False\n",
            "5     False    False     False  False  False\n",
            "6     False    False     False  False  False\n",
            "7     False    False     False   True  False\n",
            "8     False    False     False  False  False\n",
            "9     False    False     False  False  False\n",
            "10    False    False     False  False  False\n",
            "11    False    False     False   True  False\n",
            "12    False    False     False  False  False\n",
            "13    False    False     False  False  False\n",
            "14    False    False     False  False  False\n",
            "15    False    False     False  False  False\n",
            "OrderID     0\n",
            "Product     0\n",
            "Quantity    0\n",
            "Price       2\n",
            "Date        0\n",
            "dtype: int64\n"
          ]
        },
        {
          "data": {
            "text/html": [
              "<div>\n",
              "<style scoped>\n",
              "    .dataframe tbody tr th:only-of-type {\n",
              "        vertical-align: middle;\n",
              "    }\n",
              "\n",
              "    .dataframe tbody tr th {\n",
              "        vertical-align: top;\n",
              "    }\n",
              "\n",
              "    .dataframe thead th {\n",
              "        text-align: right;\n",
              "    }\n",
              "</style>\n",
              "<table border=\"1\" class=\"dataframe\">\n",
              "  <thead>\n",
              "    <tr style=\"text-align: right;\">\n",
              "      <th></th>\n",
              "      <th>OrderID</th>\n",
              "      <th>Product</th>\n",
              "      <th>Quantity</th>\n",
              "      <th>Price</th>\n",
              "      <th>Date</th>\n",
              "    </tr>\n",
              "  </thead>\n",
              "  <tbody>\n",
              "    <tr>\n",
              "      <th>0</th>\n",
              "      <td>1</td>\n",
              "      <td>Product_A</td>\n",
              "      <td>10</td>\n",
              "      <td>20.000000</td>\n",
              "      <td>01-01-2023</td>\n",
              "    </tr>\n",
              "    <tr>\n",
              "      <th>1</th>\n",
              "      <td>2</td>\n",
              "      <td>Product_B</td>\n",
              "      <td>5</td>\n",
              "      <td>15.000000</td>\n",
              "      <td>02-01-2023</td>\n",
              "    </tr>\n",
              "    <tr>\n",
              "      <th>2</th>\n",
              "      <td>3</td>\n",
              "      <td>Product_A</td>\n",
              "      <td>8</td>\n",
              "      <td>20.000000</td>\n",
              "      <td>03-01-2023</td>\n",
              "    </tr>\n",
              "    <tr>\n",
              "      <th>3</th>\n",
              "      <td>4</td>\n",
              "      <td>Product_C</td>\n",
              "      <td>12</td>\n",
              "      <td>25.000000</td>\n",
              "      <td>05-01-2023</td>\n",
              "    </tr>\n",
              "    <tr>\n",
              "      <th>4</th>\n",
              "      <td>5</td>\n",
              "      <td>Product_B</td>\n",
              "      <td>6</td>\n",
              "      <td>15.000000</td>\n",
              "      <td>01-02-2023</td>\n",
              "    </tr>\n",
              "    <tr>\n",
              "      <th>5</th>\n",
              "      <td>6</td>\n",
              "      <td>Product_A</td>\n",
              "      <td>15</td>\n",
              "      <td>20.000000</td>\n",
              "      <td>02-02-2023</td>\n",
              "    </tr>\n",
              "    <tr>\n",
              "      <th>6</th>\n",
              "      <td>7</td>\n",
              "      <td>Product_C</td>\n",
              "      <td>10</td>\n",
              "      <td>25.000000</td>\n",
              "      <td>03-02-2023</td>\n",
              "    </tr>\n",
              "    <tr>\n",
              "      <th>7</th>\n",
              "      <td>8</td>\n",
              "      <td>Product_A</td>\n",
              "      <td>7</td>\n",
              "      <td>20.357143</td>\n",
              "      <td>01-03-2023</td>\n",
              "    </tr>\n",
              "    <tr>\n",
              "      <th>8</th>\n",
              "      <td>9</td>\n",
              "      <td>Product_B</td>\n",
              "      <td>4</td>\n",
              "      <td>15.000000</td>\n",
              "      <td>02-03-2023</td>\n",
              "    </tr>\n",
              "    <tr>\n",
              "      <th>9</th>\n",
              "      <td>10</td>\n",
              "      <td>Product_C</td>\n",
              "      <td>14</td>\n",
              "      <td>25.000000</td>\n",
              "      <td>03-03-2023</td>\n",
              "    </tr>\n",
              "    <tr>\n",
              "      <th>10</th>\n",
              "      <td>11</td>\n",
              "      <td>Product_A</td>\n",
              "      <td>12</td>\n",
              "      <td>20.000000</td>\n",
              "      <td>01-04-2023</td>\n",
              "    </tr>\n",
              "    <tr>\n",
              "      <th>11</th>\n",
              "      <td>12</td>\n",
              "      <td>Product_B</td>\n",
              "      <td>8</td>\n",
              "      <td>20.357143</td>\n",
              "      <td>02-04-2023</td>\n",
              "    </tr>\n",
              "    <tr>\n",
              "      <th>12</th>\n",
              "      <td>13</td>\n",
              "      <td>Product_C</td>\n",
              "      <td>18</td>\n",
              "      <td>25.000000</td>\n",
              "      <td>03-04-2023</td>\n",
              "    </tr>\n",
              "    <tr>\n",
              "      <th>13</th>\n",
              "      <td>14</td>\n",
              "      <td>Product_A</td>\n",
              "      <td>9</td>\n",
              "      <td>20.000000</td>\n",
              "      <td>01-05-2023</td>\n",
              "    </tr>\n",
              "    <tr>\n",
              "      <th>14</th>\n",
              "      <td>15</td>\n",
              "      <td>Product_B</td>\n",
              "      <td>3</td>\n",
              "      <td>15.000000</td>\n",
              "      <td>02-05-2023</td>\n",
              "    </tr>\n",
              "    <tr>\n",
              "      <th>15</th>\n",
              "      <td>16</td>\n",
              "      <td>Product_C</td>\n",
              "      <td>20</td>\n",
              "      <td>25.000000</td>\n",
              "      <td>03-05-2023</td>\n",
              "    </tr>\n",
              "  </tbody>\n",
              "</table>\n",
              "</div>"
            ],
            "text/plain": [
              "    OrderID    Product  Quantity      Price        Date\n",
              "0         1  Product_A        10  20.000000  01-01-2023\n",
              "1         2  Product_B         5  15.000000  02-01-2023\n",
              "2         3  Product_A         8  20.000000  03-01-2023\n",
              "3         4  Product_C        12  25.000000  05-01-2023\n",
              "4         5  Product_B         6  15.000000  01-02-2023\n",
              "5         6  Product_A        15  20.000000  02-02-2023\n",
              "6         7  Product_C        10  25.000000  03-02-2023\n",
              "7         8  Product_A         7  20.357143  01-03-2023\n",
              "8         9  Product_B         4  15.000000  02-03-2023\n",
              "9        10  Product_C        14  25.000000  03-03-2023\n",
              "10       11  Product_A        12  20.000000  01-04-2023\n",
              "11       12  Product_B         8  20.357143  02-04-2023\n",
              "12       13  Product_C        18  25.000000  03-04-2023\n",
              "13       14  Product_A         9  20.000000  01-05-2023\n",
              "14       15  Product_B         3  15.000000  02-05-2023\n",
              "15       16  Product_C        20  25.000000  03-05-2023"
            ]
          },
          "execution_count": 5,
          "metadata": {},
          "output_type": "execute_result"
        }
      ],
      "source": [
        "#Printed the dataframe using .isna() func to check null\n",
        "missing_val=df.isnull()\n",
        "print(missing_val)\n",
        "#Replaced with the mean value of the respective group.\n",
        "missing_val=missing_val.sum()\n",
        "print(missing_val)\n",
        "cols_missing_val = missing_val[missing_val > 0].index.tolist()\n",
        "for col in cols_missing_val:\n",
        "  df[col].fillna(df[col].mean(),inplace=True)\n",
        "df"
      ]
    },
    {
      "cell_type": "markdown",
      "metadata": {
        "id": "1WQ79ZfA6kP0"
      },
      "source": [
        "#Experiment 3"
      ]
    },
    {
      "cell_type": "code",
      "execution_count": 6,
      "metadata": {
        "colab": {
          "base_uri": "https://localhost:8080/",
          "height": 526
        },
        "id": "Il1Ftjbp6mia",
        "outputId": "94d5f80b-314b-424e-9c6a-5ccb657db6da"
      },
      "outputs": [
        {
          "data": {
            "image/png": "[encoded data removed]",
            "text/plain": [
              "<Figure size 640x480 with 1 Axes>"
            ]
          },
          "metadata": {},
          "output_type": "display_data"
        }
      ],
      "source": [
        "#With the results of Experiment 2, created a line plot to visualize the revenue trend over date\n",
        "df['Revenue']=df['Price']*df['Quantity']\n",
        "plt.plot(df['Date'],df['Revenue'], marker='o', linestyle='-')\n",
        "plt.xticks(rotation=45)\n",
        "plt.title('Revenue trend over date', fontsize = 15)\n",
        "plt.xlabel('Date')\n",
        "plt.ylabel('Revenue')\n",
        "plt.show()\n"
      ]
    },
    {
      "cell_type": "markdown",
      "metadata": {
        "id": "HE-fmAx-JUsx"
      },
      "source": [
        "#Experiment 4"
      ]
    },
    {
      "cell_type": "code",
      "execution_count": 7,
      "metadata": {
        "colab": {
          "base_uri": "https://localhost:8080/"
        },
        "id": "eWxCCwafJUZk",
        "outputId": "e5ade96f-a616-453a-860d-b0897dd08f0b"
      },
      "outputs": [
        {
          "name": "stdout",
          "output_type": "stream",
          "text": [
            "The total number of Orders  16\n",
            "The total revenue generated from the sales  3505.357142857143\n"
          ]
        }
      ],
      "source": [
        "cnt=0\n",
        "for i in df['OrderID']:\n",
        "  cnt+=1\n",
        "print(\"The total number of Orders \",cnt)\n",
        "revenue=df['Revenue'].sum()\n",
        "print(\"The total revenue generated from the sales \",revenue)"
      ]
    },
    {
      "cell_type": "markdown",
      "metadata": {
        "id": "eujwO0EeLEvv"
      },
      "source": [
        "#Experiment 5"
      ]
    },
    {
      "cell_type": "code",
      "execution_count": 9,
      "metadata": {
        "colab": {
          "base_uri": "https://localhost:8080/",
          "height": 507
        },
        "id": "nGHl-5KULG8U",
        "outputId": "4bb818a9-7271-4868-c1c0-81624b015054"
      },
      "outputs": [
        {
          "name": "stdout",
          "output_type": "stream",
          "text": [
            "Average price of each product  {'Product_A': 1.9730679156908666, 'Product_B': 3.090659340659341, 'Product_C': 1.6891891891891893}\n",
            "{'Product_A': 61, 'Product_B': 26, 'Product_C': 74}\n",
            "The top most sold product  Product_C\n"
          ]
        },
        {
          "data": {
            "image/png": "[encoded data removed]",
            "text/plain": [
              "<Figure size 640x480 with 1 Axes>"
            ]
          },
          "metadata": {},
          "output_type": "display_data"
        }
      ],
      "source": [
        "#Calculating avg-price & top most sold product\n",
        "unique_pdt=df['Product'].unique()\n",
        "dict_price={}\n",
        "dict_quantity={}\n",
        "avg_price={}\n",
        "for i in unique_pdt:\n",
        "  dict_price[i]=0\n",
        "  dict_quantity[i]=0\n",
        "  avg_price[i]=0\n",
        "for index, row in df.iterrows():\n",
        "    product = row['Product']\n",
        "    price = row['Price']\n",
        "    quant= row['Quantity']\n",
        "    dict_price[product] += price\n",
        "    dict_quantity[product]+=quant\n",
        "    avg_price[product]=dict_price[product]/dict_quantity[product]\n",
        "max_sold_pdt=max(dict_quantity)\n",
        "print(\"Average price of each product \",avg_price)\n",
        "print(dict_quantity)\n",
        "print(\"The top most sold product \",max_sold_pdt)\n",
        "#Bar plot to visualize the average price of the product\n",
        "products=list(avg_price.keys())\n",
        "avgPrices=list(avg_price.values())\n",
        "plt.bar(products,avgPrices)\n",
        "plt.xlabel(\"Product Type\")\n",
        "plt.ylabel(\"Average Price\")\n",
        "plt.title(\"bar plot to visualize the average price of the product\")\n",
        "plt.show()"
      ]
    }
  ],
  "metadata": {
    "colab": {
      "provenance": []
    },
    "kernelspec": {
      "display_name": "Python 3",
      "name": "python3"
    },
    "language_info": {
      "codemirror_mode": {
        "name": "ipython",
        "version": 3
      },
      "file_extension": ".py",
      "mimetype": "text/x-python",
      "name": "python",
      "nbconvert_exporter": "python",
      "pygments_lexer": "ipython3",
      "version": "3.11.4"
    }
  },
  "nbformat": 4,
  "nbformat_minor": 0
}
